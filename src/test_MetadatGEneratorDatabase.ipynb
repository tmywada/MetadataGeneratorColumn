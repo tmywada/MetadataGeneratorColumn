{
 "cells": [
  {
   "cell_type": "code",
   "execution_count": 1,
   "id": "2dabea5f-df1b-4cf7-8fe0-48c52baedcc0",
   "metadata": {},
   "outputs": [],
   "source": [
    "from MetadataGeneratorDatabase import GenerateMetadataValues\n",
    "from MetadataGeneratorDatabase import GenerateMetadataHashvalues\n",
    "from MetadataGeneratorDatabase import GenerateMetadataString"
   ]
  },
  {
   "cell_type": "code",
   "execution_count": 2,
   "id": "5edb4b37-0099-48f8-b6d7-2604580ab09a",
   "metadata": {},
   "outputs": [],
   "source": [
    "values = ['aa', 'bb', 'cc', 'dd']\n",
    "tmp = [f'{v:06d}' for v in range(20)]\n",
    "tmp1 = [f'{v:03d}' for v in range(20)]\n",
    "tmp2 = [f'{v:05d}' for v in range(15, 60, 2)]\n",
    "values.extend(tmp)\n",
    "values.extend(values)\n",
    "values.extend(tmp2)\n",
    "\n",
    "input_string = 'customer_id15_address'"
   ]
  },
  {
   "cell_type": "code",
   "execution_count": 3,
   "id": "b6c3095f-daed-4aef-962c-5ad938413778",
   "metadata": {},
   "outputs": [],
   "source": [
    "obj_string = GenerateMetadataString()\n",
    "obj_val    = GenerateMetadataValues()\n",
    "obj_hash   = GenerateMetadataHashvalues()"
   ]
  },
  {
   "cell_type": "code",
   "execution_count": 4,
   "id": "bbd04dcf-37d8-493c-a2e2-2dbe9b764743",
   "metadata": {},
   "outputs": [],
   "source": [
    "res_str = obj_string.generate_metadata_string(input_string)\n",
    "res_val = obj_val.generate_metadata(values)\n",
    "res_hash = obj_hash.generate_bitmaps(values)"
   ]
  },
  {
   "cell_type": "code",
   "execution_count": 9,
   "id": "a07981dd-9669-434a-8ca9-035991ecf482",
   "metadata": {},
   "outputs": [
    {
     "data": {
      "text/plain": [
       "BitMap([  66539197,   75141270,  293143225,  345151836,  361276308,  474252675,\n",
       "         578433508,  602750609,  711490310,  800806492,  896293243, 1027804512,\n",
       "        1046954206, 1135551996, 1145915154, 1161723265, 1225042228, 1246838625,\n",
       "        1247398660, 1281551620, 1288702824, 1414497638, 1566717228, 1608686569,\n",
       "        1671495156, 1935739058, 2206589817, 2491070588, 2524224725, 2531617725,\n",
       "        2544136989, 2652755111, 2657806719, 2693157721, 2718412761, 2808742092,\n",
       "        2939831625, 2990686457, 3103845867, 3153606142, 3212841463, 3227513090,\n",
       "        3327550405, 3344927284, 3867456805, 4033181055, 4067221496])"
      ]
     },
     "execution_count": 9,
     "metadata": {},
     "output_type": "execute_result"
    }
   ],
   "source": [
    "a = res_hash\n",
    "a[1]"
   ]
  },
  {
   "cell_type": "code",
   "execution_count": 6,
   "id": "9b2de4ec-2956-4a53-88fd-96c68f5fd25f",
   "metadata": {},
   "outputs": [
    {
     "data": {
      "text/plain": [
       "'test.pbz2'"
      ]
     },
     "execution_count": 6,
     "metadata": {},
     "output_type": "execute_result"
    }
   ],
   "source": [
    "obj_hash.save_pickled_bz2_file(a[1], 'test.pbz2')"
   ]
  },
  {
   "cell_type": "code",
   "execution_count": 10,
   "id": "be0794b7-8828-400c-8c5b-da3a60fec7fb",
   "metadata": {},
   "outputs": [],
   "source": [
    "b = obj_hash.load_pickled_bz2_file('test.pbz2')"
   ]
  },
  {
   "cell_type": "code",
   "execution_count": 11,
   "id": "f31118df-5608-49ee-8071-0dcce9a4ad6d",
   "metadata": {},
   "outputs": [
    {
     "data": {
      "text/plain": [
       "True"
      ]
     },
     "execution_count": 11,
     "metadata": {},
     "output_type": "execute_result"
    }
   ],
   "source": [
    "a[1] == b"
   ]
  },
  {
   "cell_type": "code",
   "execution_count": null,
   "id": "2d15f04a-9261-4a74-949a-670af40c1733",
   "metadata": {},
   "outputs": [],
   "source": []
  }
 ],
 "metadata": {
  "kernelspec": {
   "display_name": "Python 3",
   "language": "python",
   "name": "python3"
  },
  "language_info": {
   "codemirror_mode": {
    "name": "ipython",
    "version": 3
   },
   "file_extension": ".py",
   "mimetype": "text/x-python",
   "name": "python",
   "nbconvert_exporter": "python",
   "pygments_lexer": "ipython3",
   "version": "3.8.8"
  }
 },
 "nbformat": 4,
 "nbformat_minor": 5
}
